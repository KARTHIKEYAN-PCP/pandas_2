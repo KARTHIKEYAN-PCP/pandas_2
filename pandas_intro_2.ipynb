{
 "cells": [
  {
   "cell_type": "code",
   "execution_count": 5,
   "id": "8ee755ce",
   "metadata": {},
   "outputs": [],
   "source": []
  },
  {
   "cell_type": "code",
   "execution_count": 12,
   "id": "b714e2e6",
   "metadata": {},
   "outputs": [],
   "source": [
    "import pandas as pd\n",
    "class karthi:\n",
    "    def read_all(self,file):\n",
    "        file = pd.read_csv(file)\n",
    "        return(file)\n",
    "    def statewise(self,file):\n",
    "      df=pd.read_csv('governors_county_candidate.csv')\n",
    "      unique_states = file['state'].unique()\n",
    "      unique_parties = file['party'].unique()\n",
    "      winner=[]\n",
    "      for i in unique_states:\n",
    "       won=df[(df['won']==True) & (df['state']==i)]\n",
    "       party=won['party']\n",
    "       winner.append(party.mode())\n",
    "      for i in range(0,len(states)):\n",
    "       print(unique_states[i],end=' won by ')\n",
    "       print(winner[i])i\n",
    "    def total_votes_statewise(self,file):\n",
    "        df=pd.read_csv('governors_county_candidate.csv')\n",
    "        return df.groupby(by=[\"state\"])[\"votes\"].sum()\n",
    "    def total_votes_by_each_parties_statewise(self,file):\n",
    "        df=pd.read_csv('governors_county_candidate.csv')\n",
    "        return df.groupby(by=[\"state\",'party'])[\"votes\"].sum()\n",
    "k=karthi()\n",
    "file = 'governors_county_candidate.csv'\n",
    "k.statewise(file)\n",
    "k.total_votes_statewise\n",
    "k.total_votes_by_each_parties_statewise"
   ]
  },
  {
   "cell_type": "code",
   "execution_count": 15,
   "id": "f94c5a70",
   "metadata": {},
   "outputs": [],
   "source": []
  },
  {
   "cell_type": "code",
   "execution_count": null,
   "id": "6200e701",
   "metadata": {},
   "outputs": [],
   "source": []
  },
  {
   "cell_type": "code",
   "execution_count": null,
   "id": "4296824b",
   "metadata": {},
   "outputs": [],
   "source": []
  },
  {
   "cell_type": "code",
   "execution_count": null,
   "id": "6a35be62",
   "metadata": {},
   "outputs": [],
   "source": []
  },
  {
   "cell_type": "code",
   "execution_count": null,
   "id": "ce76ff1b",
   "metadata": {},
   "outputs": [],
   "source": []
  },
  {
   "cell_type": "code",
   "execution_count": null,
   "id": "08f20ae4",
   "metadata": {},
   "outputs": [],
   "source": []
  },
  {
   "cell_type": "code",
   "execution_count": null,
   "id": "a2de2379",
   "metadata": {},
   "outputs": [],
   "source": []
  }
 ],
 "metadata": {
  "kernelspec": {
   "display_name": "Python 3",
   "language": "python",
   "name": "python3"
  },
  "language_info": {
   "codemirror_mode": {
    "name": "ipython",
    "version": 3
   },
   "file_extension": ".py",
   "mimetype": "text/x-python",
   "name": "python",
   "nbconvert_exporter": "python",
   "pygments_lexer": "ipython3",
   "version": "3.8.8"
  }
 },
 "nbformat": 4,
 "nbformat_minor": 5
}
